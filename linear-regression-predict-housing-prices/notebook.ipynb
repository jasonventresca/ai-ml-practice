{
 "cells": [
  {
   "cell_type": "code",
   "execution_count": 1,
   "id": "fedfa893-7952-4f55-8c31-e07db7f116ee",
   "metadata": {},
   "outputs": [],
   "source": [
    "import numpy as np\n",
    "import pandas as pd"
   ]
  },
  {
   "cell_type": "code",
   "execution_count": 2,
   "id": "8236f3f2-3cfb-4a4e-9cd3-e555a69dfdba",
   "metadata": {},
   "outputs": [
    {
     "name": "stdout",
     "output_type": "stream",
     "text": [
      "    size(sqft)  bedrooms  floors   age\n",
      "0       1244.0       3.0     1.0  64.0\n",
      "1       1947.0       3.0     2.0  17.0\n",
      "2       1725.0       3.0     2.0  42.0\n",
      "3       1959.0       3.0     2.0  15.0\n",
      "4       1314.0       2.0     1.0  14.0\n",
      "..         ...       ...     ...   ...\n",
      "94      1224.0       2.0     2.0  12.0\n",
      "95      1432.0       2.0     1.0  43.0\n",
      "96      1660.0       3.0     2.0  19.0\n",
      "97      1212.0       3.0     1.0  20.0\n",
      "98      1050.0       2.0     1.0  65.0\n",
      "\n",
      "[99 rows x 4 columns]\n",
      "    price\n",
      "0   300.0\n",
      "1   509.8\n",
      "2   394.0\n",
      "3   540.0\n",
      "4   415.0\n",
      "..    ...\n",
      "94  329.0\n",
      "95  388.0\n",
      "96  390.0\n",
      "97  356.0\n",
      "98  257.8\n",
      "\n",
      "[99 rows x 1 columns]\n"
     ]
    }
   ],
   "source": [
    "df_X_train = pd.read_csv(\"./training-data/housing_data.csv\")\n",
    "df_y_train = pd.read_csv(\"./training-data/housing_prices.csv\")\n",
    "print(df_X_train)\n",
    "print(df_y_train)"
   ]
  }
 ],
 "metadata": {
  "kernelspec": {
   "display_name": "Python 3 (ipykernel)",
   "language": "python",
   "name": "python3"
  },
  "language_info": {
   "codemirror_mode": {
    "name": "ipython",
    "version": 3
   },
   "file_extension": ".py",
   "mimetype": "text/x-python",
   "name": "python",
   "nbconvert_exporter": "python",
   "pygments_lexer": "ipython3",
   "version": "3.11.3"
  }
 },
 "nbformat": 4,
 "nbformat_minor": 5
}
